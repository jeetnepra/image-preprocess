{
 "cells": [
  {
   "cell_type": "code",
   "execution_count": 192,
   "id": "d243b7b9",
   "metadata": {},
   "outputs": [],
   "source": [
    "import numpy as np\n",
    "import matplotlib.pyplot as plt\n",
    "from PIL import Image, ImageStat\n",
    "import seaborn as sns\n",
    "import warnings\n",
    "import os\n",
    "import cv2"
   ]
  },
  {
   "cell_type": "code",
   "execution_count": 193,
   "id": "844fc6d8",
   "metadata": {},
   "outputs": [],
   "source": [
    "%matplotlib inline\n",
    "warnings.filterwarnings('ignore')"
   ]
  },
  {
   "cell_type": "code",
   "execution_count": 199,
   "id": "f68d2caf",
   "metadata": {},
   "outputs": [],
   "source": [
    "path = 'C:\\\\Users\\\\LENOVO\\\\Project\\\\img\\\\'"
   ]
  },
  {
   "cell_type": "code",
   "execution_count": 200,
   "id": "7a7b9fc4",
   "metadata": {},
   "outputs": [],
   "source": [
    "def image_preprocessing(img):\n",
    "\n",
    "    image = np.array(img) \n",
    "    image = image[:, :, ::-1]\n",
    "    \n",
    "    hsv = cv2.cvtColor(image, cv2.COLOR_BGR2HSV)\n",
    "\n",
    "    min_gray = np.array([35,5,10])\n",
    "    max_gray = np.array([180,224,130])\n",
    "\n",
    "    mask = cv2.inRange(hsv, min_gray, max_gray)\n",
    "    \n",
    "    mask_bit_not = cv2.bitwise_not(mask)\n",
    "    new_img = cv2.bitwise_and(image, image, mask = mask_bit_not)\n",
    "    \n",
    "    return new_img"
   ]
  },
  {
   "cell_type": "code",
   "execution_count": 201,
   "id": "0532db1d",
   "metadata": {},
   "outputs": [],
   "source": [
    "def image_color_detec(img, thumb_size=40):\n",
    "    \n",
    "    pil_img = img\n",
    "    bands = pil_img.getbands()\n",
    "   \n",
    "    thumb = pil_img.resize((thumb_size,thumb_size))\n",
    "    SSE, bias = 0, [0,0,0]\n",
    "        \n",
    "    bias = ImageStat.Stat(thumb).mean[:3]\n",
    "    bias = [b - sum(bias)/3 for b in bias ]\n",
    "\n",
    "    for pixel in thumb.getdata():    \n",
    "        mu = sum(pixel)/3\n",
    "        SSE += sum((pixel[i] - mu - bias[i])*(pixel[i] - mu - bias[i]) for i in [0,1,2])\n",
    "            \n",
    "    MSE = float(SSE)/(thumb_size*thumb_size)\n",
    "     \n",
    "    return MSE"
   ]
  },
  {
   "cell_type": "code",
   "execution_count": 202,
   "id": "6e2543d5",
   "metadata": {},
   "outputs": [],
   "source": [
    "def save_images(img,name):\n",
    "    file_name, file_extension = os.path.splitext(name)\n",
    "    new_img = cv2.imwrite(path+'new_'+file_name+file_extension,img)"
   ]
  },
  {
   "cell_type": "code",
   "execution_count": 203,
   "id": "657adbf1",
   "metadata": {},
   "outputs": [
    {
     "name": "stdout",
     "output_type": "stream",
     "text": [
      "test1.jpg\n",
      "------------------------\n",
      "test2.jpg\n",
      "------------------------\n",
      "test2.png\n",
      "------------------------\n",
      "test3.jpeg\n",
      "------------------------\n",
      "test3.jpg\n",
      "------------------------\n",
      "test4.jpg\n",
      "------------------------\n",
      "test4.png\n",
      "------------------------\n",
      "test5.jpg\n",
      "------------------------\n",
      "test6.png\n",
      "------------------------\n",
      "test7.jpg\n",
      "------------------------\n",
      "test8.png\n",
      "------------------------\n",
      "test9.png\n",
      "------------------------\n"
     ]
    }
   ],
   "source": [
    "dir_list = os.listdir(path)\n",
    "MSE_cutoff=50\n",
    "\n",
    "for x in dir_list:\n",
    "    img = Image.open(os.path.join(path, x))\n",
    "    MSE = image_color_detec(img) \n",
    "    if MSE >= MSE_cutoff :\n",
    "        image = image_preprocessing(img)\n",
    "        save_images(image,x)\n",
    "    else:\n",
    "        image = np.array(img)\n",
    "        save_images(image,x)\n",
    "\n",
    "    print(x)\n",
    "    print('------------------------')"
   ]
  },
  {
   "cell_type": "code",
   "execution_count": null,
   "id": "c0cc49f9",
   "metadata": {},
   "outputs": [],
   "source": []
  },
  {
   "cell_type": "code",
   "execution_count": 109,
   "id": "36bdd721",
   "metadata": {},
   "outputs": [],
   "source": []
  },
  {
   "cell_type": "code",
   "execution_count": 152,
   "id": "66ffbaa9",
   "metadata": {},
   "outputs": [],
   "source": []
  },
  {
   "cell_type": "code",
   "execution_count": null,
   "id": "5184e5a3",
   "metadata": {},
   "outputs": [],
   "source": []
  },
  {
   "cell_type": "code",
   "execution_count": 167,
   "id": "1649b522",
   "metadata": {},
   "outputs": [],
   "source": []
  },
  {
   "cell_type": "code",
   "execution_count": null,
   "id": "697bab96",
   "metadata": {},
   "outputs": [],
   "source": []
  },
  {
   "cell_type": "code",
   "execution_count": 150,
   "id": "eb452a9f",
   "metadata": {},
   "outputs": [],
   "source": []
  },
  {
   "cell_type": "code",
   "execution_count": null,
   "id": "cbd15f2c",
   "metadata": {},
   "outputs": [],
   "source": []
  },
  {
   "cell_type": "code",
   "execution_count": 162,
   "id": "5abd3069",
   "metadata": {},
   "outputs": [],
   "source": []
  },
  {
   "cell_type": "code",
   "execution_count": null,
   "id": "7cf3bb5e",
   "metadata": {},
   "outputs": [],
   "source": []
  }
 ],
 "metadata": {
  "kernelspec": {
   "display_name": "Python 3 (ipykernel)",
   "language": "python",
   "name": "python3"
  },
  "language_info": {
   "codemirror_mode": {
    "name": "ipython",
    "version": 3
   },
   "file_extension": ".py",
   "mimetype": "text/x-python",
   "name": "python",
   "nbconvert_exporter": "python",
   "pygments_lexer": "ipython3",
   "version": "3.8.11"
  }
 },
 "nbformat": 4,
 "nbformat_minor": 5
}
